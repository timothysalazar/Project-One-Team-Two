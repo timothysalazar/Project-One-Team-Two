{
 "cells": [
  {
   "cell_type": "code",
   "execution_count": 2,
   "id": "711d2212",
   "metadata": {},
   "outputs": [],
   "source": [
    "import json \n",
    "import requests\n",
    "import pandas as pd\n",
    "import matplotlib.pyplot as plt\n",
    "import numpy as np \n"
   ]
  },
  {
   "cell_type": "code",
   "execution_count": 3,
   "id": "d4deb405",
   "metadata": {},
   "outputs": [
    {
     "name": "stderr",
     "output_type": "stream",
     "text": [
      "/var/folders/hk/ywl7_8hd7vx86n9j6zmy5dgc0000gn/T/ipykernel_25101/909428740.py:2: DtypeWarning: Columns (10,11,12,13,14,15,16) have mixed types. Specify dtype option on import or set low_memory=False.\n",
      "  df = pd.read_csv(path)\n"
     ]
    },
    {
     "name": "stdout",
     "output_type": "stream",
     "text": [
      "         assessment_id      id_no              sci_name  presence  origin  \\\n",
      "0               754210     157940  Hirtella zanzibarica         1       1   \n",
      "1               754210     157940  Hirtella zanzibarica         1       1   \n",
      "2               754210     157940  Hirtella zanzibarica         1       1   \n",
      "3               754210     157940  Hirtella zanzibarica         1       1   \n",
      "4               754210     157940  Hirtella zanzibarica         1       1   \n",
      "...                ...        ...                   ...       ...     ...   \n",
      "4475048      223078273  128048676    Euphorbia adjurana         1       1   \n",
      "4475049      223078273  128048676    Euphorbia adjurana         1       1   \n",
      "4475050      223078273  128048676    Euphorbia adjurana         1       1   \n",
      "4475051      223078273  128048676    Euphorbia adjurana         1       1   \n",
      "4475052      223078273  128048676    Euphorbia adjurana         1       1   \n",
      "\n",
      "         seasonal                                           compiler    year  \\\n",
      "0               1  IUCN SSC Eastern African Plant Red List Authority  2007.0   \n",
      "1               1  IUCN SSC Eastern African Plant Red List Authority  2007.0   \n",
      "2               1  IUCN SSC Eastern African Plant Red List Authority  2007.0   \n",
      "3               1  IUCN SSC Eastern African Plant Red List Authority  2007.0   \n",
      "4               1  IUCN SSC Eastern African Plant Red List Authority  2007.0   \n",
      "...           ...                                                ...     ...   \n",
      "4475048         1             Paul Musili & Jane Barasa & Roy Gereau  2018.0   \n",
      "4475049         1             Paul Musili & Jane Barasa & Roy Gereau  2018.0   \n",
      "4475050         1             Paul Musili & Jane Barasa & Roy Gereau  2018.0   \n",
      "4475051         1             Paul Musili & Jane Barasa & Roy Gereau  2018.0   \n",
      "4475052         1             Paul Musili & Jane Barasa & Roy Gereau  2018.0   \n",
      "\n",
      "                                                  citation             legend  \\\n",
      "0        IUCN SSC Eastern African Plant Red List Authority  Extant (resident)   \n",
      "1        IUCN SSC Eastern African Plant Red List Authority  Extant (resident)   \n",
      "2        IUCN SSC Eastern African Plant Red List Authority  Extant (resident)   \n",
      "3        IUCN SSC Eastern African Plant Red List Authority  Extant (resident)   \n",
      "4        IUCN SSC Eastern African Plant Red List Authority  Extant (resident)   \n",
      "...                                                    ...                ...   \n",
      "4475048                         Kenya MBZ RL Workshop 2018  Extant (resident)   \n",
      "4475049                         Kenya MBZ RL Workshop 2018  Extant (resident)   \n",
      "4475050                         Kenya MBZ RL Workshop 2018  Extant (resident)   \n",
      "4475051                         Kenya MBZ RL Workshop 2018  Extant (resident)   \n",
      "4475052                         Kenya MBZ RL Workshop 2018  Extant (resident)   \n",
      "\n",
      "                                    subspecies subpop dist_comm island  \\\n",
      "0                                                 NaN       NaN    NaN   \n",
      "1                                                 NaN       NaN    NaN   \n",
      "2                                                 NaN       NaN    NaN   \n",
      "3        Hirtella zanzibarica subsp. megacarpa    NaN       NaN    NaN   \n",
      "4        Hirtella zanzibarica subsp. megacarpa    NaN       NaN    NaN   \n",
      "...                                        ...    ...       ...    ...   \n",
      "4475048                                    NaN    NaN       NaN    NaN   \n",
      "4475049                                    NaN    NaN       NaN    NaN   \n",
      "4475050                                    NaN    NaN       NaN    NaN   \n",
      "4475051                                    NaN    NaN       NaN    NaN   \n",
      "4475052                                    NaN    NaN       NaN    NaN   \n",
      "\n",
      "        tax_comm source basisofrec  event_year  longitude  latitude  \n",
      "0            NaN    NaN        NaN         0.0  34.116600 -9.533300  \n",
      "1            NaN    NaN        NaN         0.0  39.083300 -6.700000  \n",
      "2            NaN    NaN        NaN         0.0  39.283300 -7.666600  \n",
      "3            NaN    NaN        NaN         0.0  35.966600 -8.333300  \n",
      "4            NaN    NaN        NaN         0.0  36.350000 -7.800000  \n",
      "...          ...    ...        ...         ...        ...       ...  \n",
      "4475048      NaN    NaN        NaN      1952.0  39.166667  2.833333  \n",
      "4475049      NaN    NaN        NaN      1974.0  37.333333  0.983333  \n",
      "4475050      NaN    NaN        NaN      1974.0  38.166667  0.116667  \n",
      "4475051      NaN    NaN        NaN      1974.0  41.866667  3.933333  \n",
      "4475052      NaN    NaN        NaN         NaN  37.083333  0.466667  \n",
      "\n",
      "[4475053 rows x 20 columns]\n"
     ]
    }
   ],
   "source": [
    "\n",
    "\n",
    "path = \"/Users/grahamjaeger/um/Data/redlist_species_data_a0feff8b-d3ac-4eca-a327-6b3afb897e32/points_data.csv\"\n",
    "df = pd.read_csv(path)\n",
    "print(df)\n"
   ]
  },
  {
   "cell_type": "code",
   "execution_count": 4,
   "id": "2714ec73",
   "metadata": {},
   "outputs": [
    {
     "name": "stdout",
     "output_type": "stream",
     "text": [
      "Index(['assessment_id', 'id_no', 'sci_name', 'presence', 'origin', 'seasonal',\n",
      "       'compiler', 'year', 'citation', 'legend', 'subspecies', 'subpop',\n",
      "       'dist_comm', 'island', 'tax_comm', 'source', 'basisofrec', 'event_year',\n",
      "       'longitude', 'latitude'],\n",
      "      dtype='object')\n"
     ]
    }
   ],
   "source": [
    "print(df.columns)\n"
   ]
  },
  {
   "cell_type": "code",
   "execution_count": 9,
   "id": "5e4d3d87",
   "metadata": {},
   "outputs": [
    {
     "name": "stdout",
     "output_type": "stream",
     "text": [
      "33183\n"
     ]
    }
   ],
   "source": [
    "count_unique_sci_names = df['sci_name'].nunique()\n",
    "print(count_unique_sci_names)\n"
   ]
  },
  {
   "cell_type": "code",
   "execution_count": 12,
   "id": "6c791f97",
   "metadata": {},
   "outputs": [
    {
     "name": "stdout",
     "output_type": "stream",
     "text": [
      "                             origin   longitude   latitude\n",
      "sci_name                                                  \n",
      "Abarema adenophora                1  -84.180000  10.650000\n",
      "Abarema auriculata                1  -59.995308  -3.067324\n",
      "Abarema barbouriana               1  -78.213056  -3.040555\n",
      "Abarema brachystachya             1  -38.084400 -11.941900\n",
      "Abarema callejasii                1  -75.571515   6.926773\n",
      "...                             ...         ...        ...\n",
      "Zygogynum sylvestre               1  146.841967  -7.626167\n",
      "Zygogynum tanyostigma             1  164.768407 -20.582439\n",
      "Zygogynum vieillardii             1  165.765300 -21.454400\n",
      "Zygoruellia richardii             1   44.767914 -18.825717\n",
      "Zygotritonia benishangulana       1   34.330600  10.025800\n",
      "\n",
      "[33183 rows x 3 columns]\n"
     ]
    }
   ],
   "source": []
  },
  {
   "cell_type": "code",
   "execution_count": 13,
   "id": "f8971358",
   "metadata": {},
   "outputs": [],
   "source": []
  },
  {
   "cell_type": "code",
   "execution_count": null,
   "id": "76262a6e",
   "metadata": {},
   "outputs": [],
   "source": []
  },
  {
   "cell_type": "code",
   "execution_count": 31,
   "id": "b64e5a49",
   "metadata": {},
   "outputs": [
    {
     "name": "stdout",
     "output_type": "stream",
     "text": [
      "         assessment_id      id_no              sci_name  presence  origin  \\\n",
      "0               754210     157940  Hirtella zanzibarica         1       1   \n",
      "1               754210     157940  Hirtella zanzibarica         1       1   \n",
      "2               754210     157940  Hirtella zanzibarica         1       1   \n",
      "3               754210     157940  Hirtella zanzibarica         1       1   \n",
      "4               754210     157940  Hirtella zanzibarica         1       1   \n",
      "...                ...        ...                   ...       ...     ...   \n",
      "4475048      223078273  128048676    Euphorbia adjurana         1       1   \n",
      "4475049      223078273  128048676    Euphorbia adjurana         1       1   \n",
      "4475050      223078273  128048676    Euphorbia adjurana         1       1   \n",
      "4475051      223078273  128048676    Euphorbia adjurana         1       1   \n",
      "4475052      223078273  128048676    Euphorbia adjurana         1       1   \n",
      "\n",
      "         seasonal                                           compiler    year  \\\n",
      "0               1  IUCN SSC Eastern African Plant Red List Authority  2007.0   \n",
      "1               1  IUCN SSC Eastern African Plant Red List Authority  2007.0   \n",
      "2               1  IUCN SSC Eastern African Plant Red List Authority  2007.0   \n",
      "3               1  IUCN SSC Eastern African Plant Red List Authority  2007.0   \n",
      "4               1  IUCN SSC Eastern African Plant Red List Authority  2007.0   \n",
      "...           ...                                                ...     ...   \n",
      "4475048         1             Paul Musili & Jane Barasa & Roy Gereau  2018.0   \n",
      "4475049         1             Paul Musili & Jane Barasa & Roy Gereau  2018.0   \n",
      "4475050         1             Paul Musili & Jane Barasa & Roy Gereau  2018.0   \n",
      "4475051         1             Paul Musili & Jane Barasa & Roy Gereau  2018.0   \n",
      "4475052         1             Paul Musili & Jane Barasa & Roy Gereau  2018.0   \n",
      "\n",
      "                                                  citation             legend  \\\n",
      "0        IUCN SSC Eastern African Plant Red List Authority  Extant (resident)   \n",
      "1        IUCN SSC Eastern African Plant Red List Authority  Extant (resident)   \n",
      "2        IUCN SSC Eastern African Plant Red List Authority  Extant (resident)   \n",
      "3        IUCN SSC Eastern African Plant Red List Authority  Extant (resident)   \n",
      "4        IUCN SSC Eastern African Plant Red List Authority  Extant (resident)   \n",
      "...                                                    ...                ...   \n",
      "4475048                         Kenya MBZ RL Workshop 2018  Extant (resident)   \n",
      "4475049                         Kenya MBZ RL Workshop 2018  Extant (resident)   \n",
      "4475050                         Kenya MBZ RL Workshop 2018  Extant (resident)   \n",
      "4475051                         Kenya MBZ RL Workshop 2018  Extant (resident)   \n",
      "4475052                         Kenya MBZ RL Workshop 2018  Extant (resident)   \n",
      "\n",
      "         ... subpop dist_comm island tax_comm source basisofrec event_year  \\\n",
      "0        ...    NaN       NaN    NaN      NaN    NaN        NaN        0.0   \n",
      "1        ...    NaN       NaN    NaN      NaN    NaN        NaN        0.0   \n",
      "2        ...    NaN       NaN    NaN      NaN    NaN        NaN        0.0   \n",
      "3        ...    NaN       NaN    NaN      NaN    NaN        NaN        0.0   \n",
      "4        ...    NaN       NaN    NaN      NaN    NaN        NaN        0.0   \n",
      "...      ...    ...       ...    ...      ...    ...        ...        ...   \n",
      "4475048  ...    NaN       NaN    NaN      NaN    NaN        NaN     1952.0   \n",
      "4475049  ...    NaN       NaN    NaN      NaN    NaN        NaN     1974.0   \n",
      "4475050  ...    NaN       NaN    NaN      NaN    NaN        NaN     1974.0   \n",
      "4475051  ...    NaN       NaN    NaN      NaN    NaN        NaN     1974.0   \n",
      "4475052  ...    NaN       NaN    NaN      NaN    NaN        NaN        NaN   \n",
      "\n",
      "         longitude  latitude     quadrant  \n",
      "0        34.116600 -9.533300  Quadrant SE  \n",
      "1        39.083300 -6.700000  Quadrant SE  \n",
      "2        39.283300 -7.666600  Quadrant SE  \n",
      "3        35.966600 -8.333300  Quadrant SE  \n",
      "4        36.350000 -7.800000  Quadrant SE  \n",
      "...            ...       ...          ...  \n",
      "4475048  39.166667  2.833333  Quadrant NE  \n",
      "4475049  37.333333  0.983333  Quadrant NE  \n",
      "4475050  38.166667  0.116667  Quadrant NE  \n",
      "4475051  41.866667  3.933333  Quadrant NE  \n",
      "4475052  37.083333  0.466667  Quadrant NE  \n",
      "\n",
      "[4475053 rows x 21 columns]\n"
     ]
    }
   ],
   "source": [
    "def get_quadrant(row):\n",
    "    if row['latitude'] >= 0 and row['longitude'] >= 0:\n",
    "        return 'Quadrant NE'\n",
    "    elif row['latitude'] >= 0 and row['longitude'] < 0:\n",
    "        return 'Quadrant NW'\n",
    "    elif row['latitude'] < 0 and row['longitude'] < 0:\n",
    "        return 'Quadrant SW'\n",
    "    else:\n",
    "        return 'Quadrant SE'\n",
    "\n",
    "# apply the function to each row and add the quadrant column to the dataframe\n",
    "df['quadrant'] = df.apply(get_quadrant, axis=1)\n",
    "\n",
    "# print the updated dataframe\n",
    "print(df)"
   ]
  },
  {
   "cell_type": "code",
   "execution_count": 32,
   "id": "1214c8b0",
   "metadata": {},
   "outputs": [],
   "source": [
    "new_df = df['quadrant']"
   ]
  },
  {
   "cell_type": "code",
   "execution_count": 33,
   "id": "efce9944",
   "metadata": {},
   "outputs": [
    {
     "data": {
      "text/plain": [
       "Quadrant NW    1570228\n",
       "Quadrant SE    1179350\n",
       "Quadrant NE    1034913\n",
       "Quadrant SW     690562\n",
       "Name: quadrant, dtype: int64"
      ]
     },
     "execution_count": 33,
     "metadata": {},
     "output_type": "execute_result"
    }
   ],
   "source": [
    "new_df.value_counts()\n"
   ]
  },
  {
   "cell_type": "code",
   "execution_count": 34,
   "id": "eac6c3db",
   "metadata": {},
   "outputs": [
    {
     "data": {
      "image/png": "[encoded data removed]",
      "text/plain": [
       "<Figure size 640x480 with 1 Axes>"
      ]
     },
     "metadata": {},
     "output_type": "display_data"
    }
   ],
   "source": [
    "quadrants = ['Quadrant NE', 'Quadrant NW', 'Quadrant SW', 'Quadrant SE']\n",
    "counts = [1034913, 1570228, 690562, 1179350]\n",
    "\n",
    "# Create a bar chart\n",
    "plt.bar(quadrants, counts)\n",
    "\n",
    "# Add labels and title\n",
    "plt.xlabel('Quadrant')\n",
    "plt.ylabel('Count')\n",
    "plt.title('Number of Species Found in Each Quadrant')\n",
    "\n",
    "# Display the chart\n",
    "plt.show()"
   ]
  },
  {
   "cell_type": "code",
   "execution_count": null,
   "id": "62784a53",
   "metadata": {},
   "outputs": [],
   "source": []
  }
 ],
 "metadata": {
  "kernelspec": {
   "display_name": "Python 3 (ipykernel)",
   "language": "python",
   "name": "python3"
  },
  "language_info": {
   "codemirror_mode": {
    "name": "ipython",
    "version": 3
   },
   "file_extension": ".py",
   "mimetype": "text/x-python",
   "name": "python",
   "nbconvert_exporter": "python",
   "pygments_lexer": "ipython3",
   "version": "3.10.9"
  }
 },
 "nbformat": 4,
 "nbformat_minor": 5
}
